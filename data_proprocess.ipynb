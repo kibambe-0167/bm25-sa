{
 "cells": [
  {
   "cell_type": "markdown",
   "metadata": {},
   "source": [
    "# data cleaning\n",
    "\n",
    "\n",
    "- data source: https://www.kaggle.com/datasets/jp797498e/twitter-entity-sentiment-analysis"
   ]
  },
  {
   "cell_type": "code",
   "execution_count": null,
   "metadata": {},
   "outputs": [],
   "source": [
    "import pandas as pd"
   ]
  },
  {
   "cell_type": "code",
   "execution_count": null,
   "metadata": {},
   "outputs": [],
   "source": [
    "LABELS_MAPPING = {'positive': 1, 'neutral': 2, 'negative': 3, 'irrelevant': 4}\n",
    "LABELS_MAPPING_REV = {1: 'positive', 2: 'neutral', 3: 'negative', 4: 'irrelevant'}\n",
    "\n",
    "\n",
    "\n",
    "def normalise(x: str):\n",
    "  x = ' '.join(str(x).split()).lower()\n",
    "  return x\n",
    "\n",
    "def preprocess(data):\n",
    "  # keep important features\n",
    "  data = data[['label', 'text']]\n",
    "  # normalise labels\n",
    "  data['label'] = data['label'].apply(normalise)\n",
    "  # map labels to numbers\n",
    "  data['targes'] = data['label'].map(LABELS_MAPPING)\n",
    "  # normalise text data\n",
    "  data['text'] = data['text'].apply(normalise)\n",
    "  \n",
    "  return data\n",
    "  "
   ]
  },
  {
   "cell_type": "markdown",
   "metadata": {},
   "source": [
    "## train data"
   ]
  },
  {
   "cell_type": "code",
   "execution_count": null,
   "metadata": {},
   "outputs": [],
   "source": [
    "train = pd.read_csv(\"./data/twitter_training.csv\", header=None, names=['number', 'unknown', 'label', 'text'])\n",
    "train.head()"
   ]
  },
  {
   "cell_type": "code",
   "execution_count": null,
   "metadata": {},
   "outputs": [],
   "source": [
    "train_clean = preprocess(train)\n",
    "train_clean.head()"
   ]
  },
  {
   "cell_type": "code",
   "execution_count": null,
   "metadata": {},
   "outputs": [],
   "source": [
    "train_clean.to_csv(\"./data/train.csv\", index=False )"
   ]
  },
  {
   "cell_type": "markdown",
   "metadata": {},
   "source": [
    "## validation data"
   ]
  },
  {
   "cell_type": "code",
   "execution_count": null,
   "metadata": {},
   "outputs": [],
   "source": [
    "val = pd.read_csv(\"./data/twitter_validation.csv\", header=None, names=['', 'blah', 'label','text' ])\n",
    "val.head()"
   ]
  },
  {
   "cell_type": "code",
   "execution_count": null,
   "metadata": {},
   "outputs": [],
   "source": [
    "val_clean = preprocess(val)\n",
    "val_clean.head()"
   ]
  },
  {
   "cell_type": "code",
   "execution_count": null,
   "metadata": {},
   "outputs": [],
   "source": [
    "val_clean.to_csv(\"./data/val.csv\")"
   ]
  },
  {
   "cell_type": "code",
   "execution_count": null,
   "metadata": {},
   "outputs": [],
   "source": []
  }
 ],
 "metadata": {
  "kernelspec": {
   "display_name": "env-bm25-sa",
   "language": "python",
   "name": "python3"
  },
  "language_info": {
   "codemirror_mode": {
    "name": "ipython",
    "version": 3
   },
   "file_extension": ".py",
   "mimetype": "text/x-python",
   "name": "python",
   "nbconvert_exporter": "python",
   "pygments_lexer": "ipython3",
   "version": "3.10.7"
  }
 },
 "nbformat": 4,
 "nbformat_minor": 2
}
