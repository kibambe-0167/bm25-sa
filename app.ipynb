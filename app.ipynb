{
 "cells": [
  {
   "cell_type": "markdown",
   "metadata": {},
   "source": [
    "# BM25"
   ]
  },
  {
   "cell_type": "code",
   "execution_count": 39,
   "metadata": {},
   "outputs": [],
   "source": [
    "import os\n",
    "import sys\n",
    "import numpy as np\n",
    "from wordcloud import WordCloud\n",
    "import matplotlib.pyplot as plt"
   ]
  },
  {
   "cell_type": "code",
   "execution_count": 42,
   "metadata": {},
   "outputs": [],
   "source": [
    "def word_cloud(text: list):\n",
    "  \"\"\"text: list of text documents/sentences\"\"\"\n",
    "  text = ' '.join(str(text).lower())\n",
    "  wordcloud = WordCloud(width=800, height=400, background_color='white').generate(text)\n",
    "  plt.figure(figsize=(10, 5))\n",
    "  plt.imshow(wordcloud, interpolation='bilinear')\n",
    "  plt.axis('off')\n",
    "  plt.show()\n"
   ]
  },
  {
   "cell_type": "code",
   "execution_count": 5,
   "metadata": {},
   "outputs": [
    {
     "data": {
      "text/plain": [
       "['The sun set over the horizon, casting a warm glow across the fields.',\n",
       " 'She carefully placed the delicate vase on the table, admiring its intricate design.',\n",
       " 'The sound of the rain tapping on the window created a soothing atmosphere.',\n",
       " 'He opened the old book and was immediately transported to a different time and place.',\n",
       " 'The children laughed and played in the park, their joy infectious to everyone around.']"
      ]
     },
     "execution_count": 5,
     "metadata": {},
     "output_type": "execute_result"
    }
   ],
   "source": [
    "data = [\n",
    "    \"The sun set over the horizon, casting a warm glow across the fields.\",\n",
    "    \"She carefully placed the delicate vase on the table, admiring its intricate design.\",\n",
    "    \"The sound of the rain tapping on the window created a soothing atmosphere.\",\n",
    "    \"He opened the old book and was immediately transported to a different time and place.\",\n",
    "    \"The children laughed and played in the park, their joy infectious to everyone around.\",\n",
    "]\n",
    "# \n",
    "data"
   ]
  },
  {
   "cell_type": "code",
   "execution_count": 41,
   "metadata": {},
   "outputs": [
    {
     "data": {
      "text/plain": [
       "'The sun set over the horizon, casting a warm glow across the fields. She carefully placed the delicate vase on the table, admiring its intricate design. The sound of the rain tapping on the window created a soothing atmosphere. He opened the old book and was immediately transported to a different time and place. The children laughed and played in the park, their joy infectious to everyone around.'"
      ]
     },
     "execution_count": 41,
     "metadata": {},
     "output_type": "execute_result"
    }
   ],
   "source": [
    "' '.join(data)"
   ]
  },
  {
   "cell_type": "code",
   "execution_count": 8,
   "metadata": {},
   "outputs": [
    {
     "data": {
      "text/plain": [
       "13"
      ]
     },
     "execution_count": 8,
     "metadata": {},
     "output_type": "execute_result"
    }
   ],
   "source": [
    "min([len(i.split(' ')) for i in data])"
   ]
  },
  {
   "cell_type": "code",
   "execution_count": 9,
   "metadata": {},
   "outputs": [
    {
     "data": {
      "text/plain": [
       "15"
      ]
     },
     "execution_count": 9,
     "metadata": {},
     "output_type": "execute_result"
    }
   ],
   "source": [
    "max([len(i.split(' ')) for i in data])"
   ]
  },
  {
   "cell_type": "code",
   "execution_count": 20,
   "metadata": {},
   "outputs": [],
   "source": [
    "class BM25():\n",
    "  def __init__(self, data, freq_sat=0.2, len_norm=2) -> None:\n",
    "    self.data = data\n",
    "    self.freq_sat = freq_sat\n",
    "    self.len_norm = len_norm\n",
    "    self.normalise_data()\n",
    "    \n",
    "  def normalise_data(self): self.data = [ str(doc).lower() for doc in self.data ]\n",
    "\n",
    "  def TF(self, t, d):\n",
    "    f = self.freq_term_document(t, d)\n",
    "    n = f * self.freq_saturation()\n",
    "    dd = f + (self.freq_sat * ( 1 - self.len_norm + self.len_norm * ( self.len_doc(d) / self.avg_doc_length() )))\n",
    "    return n / dd\n",
    "  \n",
    "  def freq_saturation(self,): return self.freq_sat + 1\n",
    "  \n",
    "  def len_doc(self, d): return len( d.split(\" \") )\n",
    "  \n",
    "  def avg_doc_length(self,): \n",
    "    return sum( [ len(d.split(\" \")) for d in self.data ] ) / self.__len__()\n",
    "  \n",
    "  def freq_term_document(self, t, d): return d.split(\" \").count(t)\n",
    "  \n",
    "  def IDF(self, t):\n",
    "    n = self.__len__() - self.numb_doc_with_term(t) + .5\n",
    "    d = self.numb_doc_with_term(t) + .5\n",
    "    y = np.log((n/d)+1)\n",
    "    return y\n",
    "\n",
    "  def bm25(self):\n",
    "    \"\"\" variant, modified to fit my use case \"\"\"\n",
    "    res = []\n",
    "    for doc in self.data: \n",
    "      x = [ self.TF(t, doc) * self.IDF(t) for t in doc.split(\" \") ]\n",
    "      res.append(x)\n",
    "    return res\n",
    "\n",
    "  def numb_doc_with_term(self,t):\n",
    "    c = 0;\n",
    "    for doc in self.data: \n",
    "      if t in doc: c += 1\n",
    "    return c\n",
    "  \n",
    "  def len_document(self, document): \n",
    "    return len(document.split(\" \"))\n",
    "  \n",
    "  def __len__(self): return len(self.data)"
   ]
  },
  {
   "cell_type": "code",
   "execution_count": 38,
   "metadata": {},
   "outputs": [
    {
     "name": "stdout",
     "output_type": "stream",
     "text": [
      "[0.09843061500490456, 1.4069853217336203, 1.4069853217336203, 1.4069853217336203, 0.09843061500490456, 1.4069853217336203, 1.4069853217336203, 0.08831005425813164, 1.4069853217336203, 1.4069853217336203, 1.4069853217336203, 0.09843061500490456, 1.4069853217336203]\n",
      "[1.4069853217336203, 1.4069853217336203, 1.4069853217336203, 0.09568906148724775, 1.4069853217336203, 1.4069853217336203, 0.2919758347271806, 0.09568906148724775, 1.4069853217336203, 1.4069853217336203, 1.4069853217336203, 1.4069853217336203, 1.4069853217336203]\n",
      "[0.09843061500490456, 1.4069853217336203, 1.4069853217336203, 0.09843061500490456, 1.4069853217336203, 1.4069853217336203, 0.2919758347271806, 0.09843061500490456, 1.4069853217336203, 1.4069853217336203, 0.08831005425813164, 1.4069853217336203, 1.4069853217336203]\n",
      "[0.08412474362978416, 1.340303552931079, 0.08412474362978416, 1.340303552931079, 1.340303552931079, 0.9375098289774044, 1.340303552931079, 1.340303552931079, 1.340303552931079, 0.8464247508066141, 0.08412474362978416, 1.340303552931079, 1.340303552931079, 0.9375098289774044, 1.340303552931079]\n",
      "[0.0944166005632152, 1.3728351925653284, 1.3728351925653284, 0.8669690408747357, 1.3728351925653284, 0.28488904262215187, 0.0944166005632152, 1.3728351925653284, 1.3728351925653284, 1.3728351925653284, 1.3728351925653284, 0.8669690408747357, 1.3728351925653284, 1.3728351925653284]\n"
     ]
    }
   ],
   "source": [
    "bm23 = BM25(data)\n",
    "x = bm23.bm25()\n",
    "\n",
    "for i in x:\n",
    "  print(i)"
   ]
  },
  {
   "cell_type": "code",
   "execution_count": null,
   "metadata": {},
   "outputs": [],
   "source": []
  }
 ],
 "metadata": {
  "kernelspec": {
   "display_name": "env-bm25-sa",
   "language": "python",
   "name": "python3"
  },
  "language_info": {
   "codemirror_mode": {
    "name": "ipython",
    "version": 3
   },
   "file_extension": ".py",
   "mimetype": "text/x-python",
   "name": "python",
   "nbconvert_exporter": "python",
   "pygments_lexer": "ipython3",
   "version": "3.10.7"
  }
 },
 "nbformat": 4,
 "nbformat_minor": 2
}
